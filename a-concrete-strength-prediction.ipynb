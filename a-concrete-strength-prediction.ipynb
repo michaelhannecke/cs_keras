{
 "cells": [
  {
   "cell_type": "markdown",
   "metadata": {},
   "source": [
    "# Concrete Strength Prediction Model"
   ]
  },
  {
   "cell_type": "markdown",
   "metadata": {},
   "source": [
    "## Concrete Strength Prediction using Neural Networks\n",
    "This script builds a baseline regression model using Keras to predict concrete strength based on various ingredients and age."
   ]
  },
  {
   "cell_type": "code",
   "execution_count": null,
   "metadata": {},
   "outputs": [],
   "source": [
    "# Import necessary libraries\n",
    "import pandas as pd\n",
    "import numpy as np\n",
    "from tensorflow.keras.models import Sequential\n",
    "from tensorflow.keras.layers import Dense\n",
    "from sklearn.model_selection import train_test_split\n",
    "from sklearn.metrics import mean_squared_error"
   ]
  },
  {
   "cell_type": "markdown",
   "metadata": {},
   "source": [
    "## Step 1:\n",
    "### Load the dataset"
   ]
  },
  {
   "cell_type": "code",
   "execution_count": null,
   "metadata": {},
   "outputs": [],
   "source": [
    "print(\"Loading concrete strength dataset...\")\n",
    "# Read the CSV file into a pandas DataFrame\n",
    "df = pd.read_csv('data/concrete_data.csv')\n",
    "\n",
    "# Display basic information about the dataset\n",
    "print(\"\\nDataset Information:\")\n",
    "print(f\"Number of samples: {df.shape[0]}\")\n",
    "print(f\"Number of features: {df.shape[1] - 1}\")  # Excluding the target variable\n",
    "print(\"\\nFeature names:\")\n",
    "for col in df.columns[:-1]:  # All columns except the last one\n",
    "    print(f\"- {col}\")\n",
    "print(\"\\nFirst few rows of the dataset:\")\n",
    "print(df.head())"
   ]
  },
  {
   "cell_type": "markdown",
   "metadata": {},
   "source": [
    "## Step 2:\n",
    "### Data Preprocessing"
   ]
  },
  {
   "cell_type": "code",
   "execution_count": null,
   "metadata": {},
   "outputs": [],
   "source": [
    "print(\"\\nPreparing data for model training...\")\n",
    "# Separate features (X) and target variable (y)\n",
    "# X contains all predictors: Cement, Blast Furnace Slag, Fly Ash, Water,\n",
    "# Superplasticizer, Coarse Aggregate, Fine Aggregate, and Age\n",
    "X = df.iloc[:, :-1].values\n",
    "# y contains the target variable: Concrete Strength\n",
    "y = df.iloc[:, -1].values"
   ]
  },
  {
   "cell_type": "markdown",
   "metadata": {},
   "source": [
    "\n",
    "## Step 3-7: \n",
    "### Repeat model training and evaluation 50 times"
   ]
  },
  {
   "cell_type": "code",
   "execution_count": null,
   "metadata": {},
   "outputs": [],
   "source": [
    "print(\"\\nRepeating model training and evaluation 50 times with different random splits...\")\n",
    "\n",
    "# Initialize a list to store the MSE values\n",
    "mse_list = []\n",
    "\n",
    "# Create a function to build and compile the model (to reuse in each iteration)\n",
    "def create_model(input_dim):\n",
    "    model = Sequential()\n",
    "    # Using ReLU activation function as specified\n",
    "    model.add(Dense(10, input_dim=input_dim, activation='relu'))\n",
    "    model.add(Dense(1))\n",
    "    model.compile(optimizer='adam', loss='mean_squared_error')\n",
    "    return model\n",
    "\n",
    "# Suppress verbose output during the loop\n",
    "#import tensorflow as tf\n",
    "#import os\n",
    "#os.environ['TF_CPP_MIN_LOG_LEVEL'] = '2'  # Suppress TensorFlow logging\n",
    "#tf.compat.v1.logging.set_verbosity(tf.compat.v1.logging.ERROR)\n",
    "\n",
    "# Run the process 50 times\n",
    "for i in range(50):\n",
    "    print(f\"\\nIteration {i+1}/50\")\n",
    "    \n",
    "    # Use scikit-learn's train_test_split with a different random state each time\n",
    "    X_train, X_test, y_train, y_test = train_test_split(\n",
    "        X, y, test_size=0.3, random_state=i\n",
    "    )\n",
    "    \n",
    "    print(f\"  Training: {X_train.shape[0]} samples, Testing: {X_test.shape[0]} samples\")\n",
    "    \n",
    "    # Create and compile the model\n",
    "    model = create_model(X.shape[1])\n",
    "    \n",
    "    # Train the model with less verbose output\n",
    "    history = model.fit(\n",
    "        X_train, y_train,\n",
    "        epochs=50,\n",
    "        batch_size=32,\n",
    "        verbose=0  # No output during training\n",
    "    )\n",
    "    \n",
    "    # Evaluate the model\n",
    "    y_pred = model.predict(X_test, verbose=0)\n",
    "    \n",
    "    # Compute MSE using scikit-learn's mean_squared_error function\n",
    "    mse = mean_squared_error(y_test, y_pred)\n",
    "    mse_list.append(mse)\n",
    "    print(f\"  Mean Squared Error: {mse:.4f}\")\n",
    "\n",
    "# Display statistics about the MSE values\n",
    "print(\"\\nMSE Statistics across 50 runs:\")\n",
    "print(f\"Mean MSE: {np.mean(mse_list):.4f}\")\n",
    "print(f\"Median MSE: {np.median(mse_list):.4f}\")\n",
    "print(f\"Min MSE: {np.min(mse_list):.4f}\")\n",
    "print(f\"Max MSE: {np.max(mse_list):.4f}\")\n",
    "print(f\"Standard Deviation: {np.std(mse_list):.4f}\")\n",
    "\n",
    "# Display all MSE values\n",
    "print(\"\\nList of all 50 MSE values:\")\n",
    "for i, mse in enumerate(mse_list):\n",
    "    print(f\"Run {i+1}: {mse:.4f}\")"
   ]
  }
 ],
 "metadata": {
  "kernelspec": {
   "display_name": ".venv",
   "language": "python",
   "name": "python3"
  },
  "language_info": {
   "codemirror_mode": {
    "name": "ipython",
    "version": 3
   },
   "file_extension": ".py",
   "mimetype": "text/x-python",
   "name": "python",
   "nbconvert_exporter": "python",
   "pygments_lexer": "ipython3",
   "version": "3.9.6"
  }
 },
 "nbformat": 4,
 "nbformat_minor": 2
}
